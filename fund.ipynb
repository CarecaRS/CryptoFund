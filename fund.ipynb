{
 "cells": [
  {
   "cell_type": "markdown",
   "id": "179c5bcb",
   "metadata": {},
   "source": [
    "## To-do list\n",
    "- check for directories structure (model for prediction, databases, saving directory for the drawdown/VaR/etc plots, backup directory for model, backup directory for plots)\n",
    "- import metrics (VaR, cVaR, drawdown, etc.) functions from metrics.py"
   ]
  },
  {
   "cell_type": "code",
   "execution_count": null,
   "id": "fefab3c3",
   "metadata": {},
   "outputs": [],
   "source": []
  }
 ],
 "metadata": {
  "kernelspec": {
   "display_name": "Python 3",
   "language": "python",
   "name": "python3"
  },
  "language_info": {
   "name": "python",
   "version": "3.12.3"
  }
 },
 "nbformat": 4,
 "nbformat_minor": 5
}
